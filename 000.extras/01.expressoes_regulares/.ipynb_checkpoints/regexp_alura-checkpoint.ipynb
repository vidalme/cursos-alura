{
 "cells": [
  {
   "cell_type": "markdown",
   "id": "33ddb9dc-71b7-4728-9cfa-e954c13dac11",
   "metadata": {},
   "source": [
    "<h2>Expressões Regulares faça buscas validações e substituições de texto</h2>"
   ]
  },
  {
   "cell_type": "markdown",
   "id": "49b78149-5272-4549-8c8f-aefb21d66d77",
   "metadata": {},
   "source": [
    "<h4 style='color:gold'>01.Entendendo expressões regulares</h4>"
   ]
  },
  {
   "cell_type": "code",
   "execution_count": 4,
   "id": "64749f4f-9b96-45d2-8bce-a609f75f3447",
   "metadata": {},
   "outputs": [],
   "source": [
    "import re\n",
    "import csv"
   ]
  },
  {
   "cell_type": "markdown",
   "id": "ae0aee5a-28c9-4fb6-9764-0d2eb516afd4",
   "metadata": {},
   "source": [
    "<p>Criando uma busca e extração de telefones de um arquivo .csv"
   ]
  },
  {
   "cell_type": "code",
   "execution_count": 143,
   "id": "5371a76f-a0c8-44e6-9e11-a9817959024e",
   "metadata": {},
   "outputs": [
    {
     "name": "stdout",
     "output_type": "stream",
     "text": [
      "['(49) 92361-2598', '(95) 92589-4243', '(67) 92846-3472', '(85) 92657-6956', '(44) 92891-2952', '(64) 92967-8938', '(28) 93481-2521', '(98) 93602-3624', '(13) 92977-7223', '(28) 3547-5161']\n"
     ]
    }
   ],
   "source": [
    "conteudo = []\n",
    "with open ('database.csv') as db_csv:\n",
    "    reader_csv = csv.reader(db_csv)\n",
    "    header = next(reader_csv)\n",
    "    conteudo = [row for row in reader_csv]\n",
    "\n",
    "    fones = []\n",
    "    \n",
    "    for row in conteudo:\n",
    "        tring = \", \".join(row)\n",
    "        fone = re.findall(r'\\(\\d{2}\\)\\s+\\d{4,5}-\\d+',tring)\n",
    "        if(fone): fones.append(fone[0])\n",
    "\n",
    "print(fones)        "
   ]
  },
  {
   "cell_type": "markdown",
   "id": "c1b2816c-f9ce-4cc1-aaf6-95b8ed3dd5a8",
   "metadata": {},
   "source": [
    "<br>\n",
    "<h4  style='color:gold'>02. Implementando classes e quantificadores</h4>"
   ]
  },
  {
   "cell_type": "markdown",
   "id": "d226780a-431a-4bb9-9f07-e01de38192c7",
   "metadata": {},
   "source": [
    "<p> Filtrar os CPFs que estão separados ou não por diferentes separadores"
   ]
  },
  {
   "cell_type": "code",
   "execution_count": 141,
   "id": "22d814ac-fa5b-43c9-b43a-610bce59123e",
   "metadata": {},
   "outputs": [
    {
     "name": "stdout",
     "output_type": "stream",
     "text": [
      "['83085126406', '18440126387', '80544915143', '48275258979', '877-691-581.68', '71642300721', '84658458594', '826.580.743-01', '752.473.458-19', '764.682.144-67']\n"
     ]
    }
   ],
   "source": [
    "cpfs = []\n",
    "for row in conteudo:\n",
    "    tring = ', '.join(row)\n",
    "    cpf = re.findall(r'\\d{3}[.-]?\\d{3}[.-]?\\d{3}[.-]?\\d{2}',tring)\n",
    "    \n",
    "    if(cpf): cpfs.append(cpf[0])\n",
    "\n",
    "print(cpfs)"
   ]
  },
  {
   "cell_type": "markdown",
   "id": "67d955bc-fcbb-40cf-8b35-dde328a2ea6f",
   "metadata": {},
   "source": [
    "<br>\n",
    "<p>Filtrando todas as datas"
   ]
  },
  {
   "cell_type": "code",
   "execution_count": 150,
   "id": "d48aadac-1bcb-4432-a25d-170cbc5b3b2e",
   "metadata": {},
   "outputs": [
    {
     "name": "stdout",
     "output_type": "stream",
     "text": [
      "['22/07/1995', '19/03/1959', '17/10/2004', '17/06/1999', '15/12/1997', '04/03/1994', '19/11/1964', '13 05 1973', '22111996', '28.03.1984']\n"
     ]
    }
   ],
   "source": [
    "datas = []\n",
    "for row in conteudo:\n",
    "    tring = ', '.join(row)\n",
    "    data = re.findall(r'\\d{2}[/. ]?\\d{2}[/. ]?\\d{4}[/. ]?$',tring)\n",
    "    \n",
    "    if(data): datas.append(data[0])\n",
    "\n",
    "print(datas)"
   ]
  },
  {
   "cell_type": "markdown",
   "id": "0dc99289-ce7c-4fb2-8a5c-aceb03c0e5a5",
   "metadata": {},
   "source": [
    "<br>\n",
    "<h4  style='color:gold'>\n",
    "03. Trabalhando com grupos\n",
    "</h4>"
   ]
  },
  {
   "cell_type": "code",
   "execution_count": 174,
   "id": "38420949-1c2b-4a74-944c-2aaa0ade932a",
   "metadata": {},
   "outputs": [
    {
     "name": "stdout",
     "output_type": "stream",
     "text": [
      "['Rogério Águas', 'Cleberson Kauê', 'Francisco Chico', 'Bóris Thiago', 'Benedito Nivaldo', 'Anna Dara', 'Suzana Galindo', 'Jason Raul', 'Julieta Correia', 'Berenice Sabrina']\n"
     ]
    }
   ],
   "source": [
    "nomes = []\n",
    "for row in conteudo:\n",
    "    tring = ', '.join(row)\n",
    "    nome = re.findall(r'^[a-zA-ZÀ-ÿ]+\\s[a-zA-ZÀ-ÿ]+',tring)\n",
    "    \n",
    "    if(nome): nomes.append(nome[0])\n",
    "\n",
    "print(nomes)"
   ]
  },
  {
   "cell_type": "code",
   "execution_count": null,
   "id": "d50fe2a0-cb0d-487b-8435-29e6e2bb64b5",
   "metadata": {},
   "outputs": [],
   "source": []
  },
  {
   "cell_type": "code",
   "execution_count": null,
   "id": "e36160b6-0fdc-4a60-8faa-53ea5eacc21d",
   "metadata": {},
   "outputs": [],
   "source": []
  },
  {
   "cell_type": "code",
   "execution_count": null,
   "id": "13dbc9a3-e1d4-4c31-8e0b-3078d4aee603",
   "metadata": {},
   "outputs": [],
   "source": []
  },
  {
   "cell_type": "code",
   "execution_count": null,
   "id": "0286b08f-67b8-4165-9d10-a2c0f8b8dfe6",
   "metadata": {},
   "outputs": [],
   "source": []
  },
  {
   "cell_type": "code",
   "execution_count": null,
   "id": "bfa8a257-0c1c-4a98-9398-5ae4c9066cdb",
   "metadata": {},
   "outputs": [],
   "source": []
  }
 ],
 "metadata": {
  "kernelspec": {
   "display_name": "Python 3 (ipykernel)",
   "language": "python",
   "name": "python3"
  },
  "language_info": {
   "codemirror_mode": {
    "name": "ipython",
    "version": 3
   },
   "file_extension": ".py",
   "mimetype": "text/x-python",
   "name": "python",
   "nbconvert_exporter": "python",
   "pygments_lexer": "ipython3",
   "version": "3.10.12"
  }
 },
 "nbformat": 4,
 "nbformat_minor": 5
}
