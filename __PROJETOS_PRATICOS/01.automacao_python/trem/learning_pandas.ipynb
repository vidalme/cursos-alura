{
 "cells": [
  {
   "cell_type": "code",
   "execution_count": 21,
   "id": "554ad85f-ca19-488b-bae4-e79d64dc77ac",
   "metadata": {},
   "outputs": [],
   "source": [
    "import pandas as pd"
   ]
  },
  {
   "cell_type": "code",
   "execution_count": 22,
   "id": "f52d2b16-d91a-4dca-853e-4818cd1b5fb4",
   "metadata": {},
   "outputs": [],
   "source": [
    "df = pd.read_excel('colaboradores.xls')"
   ]
  },
  {
   "cell_type": "code",
   "execution_count": 23,
   "id": "56377263-109c-4a77-bfc7-a16ea6e5989f",
   "metadata": {},
   "outputs": [
    {
     "data": {
      "text/html": [
       "<div>\n",
       "<style scoped>\n",
       "    .dataframe tbody tr th:only-of-type {\n",
       "        vertical-align: middle;\n",
       "    }\n",
       "\n",
       "    .dataframe tbody tr th {\n",
       "        vertical-align: top;\n",
       "    }\n",
       "\n",
       "    .dataframe thead th {\n",
       "        text-align: right;\n",
       "    }\n",
       "</style>\n",
       "<table border=\"1\" class=\"dataframe\">\n",
       "  <thead>\n",
       "    <tr style=\"text-align: right;\">\n",
       "      <th></th>\n",
       "      <th>Nome</th>\n",
       "      <th>E-mail</th>\n",
       "      <th>Departamento</th>\n",
       "      <th>Telefone</th>\n",
       "    </tr>\n",
       "  </thead>\n",
       "  <tbody>\n",
       "    <tr>\n",
       "      <th>0</th>\n",
       "      <td>Lucas Santos</td>\n",
       "      <td>lucas_santos@alucario.com.br</td>\n",
       "      <td>Administrativo</td>\n",
       "      <td>(45) 96818-1028</td>\n",
       "    </tr>\n",
       "    <tr>\n",
       "      <th>1</th>\n",
       "      <td>Heloísa Monteiro</td>\n",
       "      <td>heloísa_monteiro@alucario.com.br</td>\n",
       "      <td>Marketing</td>\n",
       "      <td>(82) 96399-5199</td>\n",
       "    </tr>\n",
       "    <tr>\n",
       "      <th>2</th>\n",
       "      <td>Pedro Rodrigues</td>\n",
       "      <td>pedro_rodrigues@alucario.com.br</td>\n",
       "      <td>Marketing</td>\n",
       "      <td>(41) 99680-6373</td>\n",
       "    </tr>\n",
       "    <tr>\n",
       "      <th>3</th>\n",
       "      <td>Gabriel Vidal</td>\n",
       "      <td>gabriel_vidal@alucario.com.br</td>\n",
       "      <td>Marketing</td>\n",
       "      <td>(73) 92037-9593</td>\n",
       "    </tr>\n",
       "    <tr>\n",
       "      <th>4</th>\n",
       "      <td>Maria Luiza Araújo</td>\n",
       "      <td>maria_luiza_araújo@alucario.com.br</td>\n",
       "      <td>Administrativo</td>\n",
       "      <td>(75) 92410-3045</td>\n",
       "    </tr>\n",
       "    <tr>\n",
       "      <th>5</th>\n",
       "      <td>Maria Eduarda Santos</td>\n",
       "      <td>maria_eduarda_santos@alucario.com.br</td>\n",
       "      <td>Marketing</td>\n",
       "      <td>(71) 94176-5979</td>\n",
       "    </tr>\n",
       "    <tr>\n",
       "      <th>6</th>\n",
       "      <td>Manuela Barros</td>\n",
       "      <td>manuela_barros@alucario.com.br</td>\n",
       "      <td>Marketing</td>\n",
       "      <td>(74) 93531-3302</td>\n",
       "    </tr>\n",
       "    <tr>\n",
       "      <th>7</th>\n",
       "      <td>Nicolas Araújo</td>\n",
       "      <td>nicolas_araújo@alucario.com.br</td>\n",
       "      <td>Jurídico</td>\n",
       "      <td>(97) 98122-9193</td>\n",
       "    </tr>\n",
       "    <tr>\n",
       "      <th>8</th>\n",
       "      <td>Valentina Oliveira</td>\n",
       "      <td>valentina_oliveira@alucario.com.br</td>\n",
       "      <td>Jurídico</td>\n",
       "      <td>(79) 94465-9915</td>\n",
       "    </tr>\n",
       "    <tr>\n",
       "      <th>9</th>\n",
       "      <td>Samuel Gomes</td>\n",
       "      <td>samuel_gomes@alucario.com.br</td>\n",
       "      <td>Marketing</td>\n",
       "      <td>(60) 93465-9299</td>\n",
       "    </tr>\n",
       "  </tbody>\n",
       "</table>\n",
       "</div>"
      ],
      "text/plain": [
       "                   Nome                                E-mail    Departamento  \\\n",
       "0          Lucas Santos          lucas_santos@alucario.com.br  Administrativo   \n",
       "1      Heloísa Monteiro      heloísa_monteiro@alucario.com.br       Marketing   \n",
       "2       Pedro Rodrigues       pedro_rodrigues@alucario.com.br       Marketing   \n",
       "3         Gabriel Vidal         gabriel_vidal@alucario.com.br       Marketing   \n",
       "4    Maria Luiza Araújo    maria_luiza_araújo@alucario.com.br  Administrativo   \n",
       "5  Maria Eduarda Santos  maria_eduarda_santos@alucario.com.br       Marketing   \n",
       "6        Manuela Barros        manuela_barros@alucario.com.br       Marketing   \n",
       "7        Nicolas Araújo        nicolas_araújo@alucario.com.br        Jurídico   \n",
       "8    Valentina Oliveira    valentina_oliveira@alucario.com.br        Jurídico   \n",
       "9          Samuel Gomes          samuel_gomes@alucario.com.br       Marketing   \n",
       "\n",
       "          Telefone  \n",
       "0  (45) 96818-1028  \n",
       "1  (82) 96399-5199  \n",
       "2  (41) 99680-6373  \n",
       "3  (73) 92037-9593  \n",
       "4  (75) 92410-3045  \n",
       "5  (71) 94176-5979  \n",
       "6  (74) 93531-3302  \n",
       "7  (97) 98122-9193  \n",
       "8  (79) 94465-9915  \n",
       "9  (60) 93465-9299  "
      ]
     },
     "execution_count": 23,
     "metadata": {},
     "output_type": "execute_result"
    }
   ],
   "source": [
    "df.head(10)"
   ]
  },
  {
   "cell_type": "markdown",
   "id": "7f648038-d729-4275-814e-4e23220f8912",
   "metadata": {},
   "source": [
    "Da o numero de linhas e colunas"
   ]
  },
  {
   "cell_type": "code",
   "execution_count": 24,
   "id": "c041bfd3-47af-40af-82d2-542ac964b49c",
   "metadata": {},
   "outputs": [
    {
     "data": {
      "text/plain": [
       "(50, 4)"
      ]
     },
     "execution_count": 24,
     "metadata": {},
     "output_type": "execute_result"
    }
   ],
   "source": [
    "df.shape"
   ]
  },
  {
   "cell_type": "markdown",
   "id": "8375ba98-16fe-415b-a968-55c8d148a270",
   "metadata": {},
   "source": [
    "ordenamos qualquer coluna com o metodo sort_values()"
   ]
  },
  {
   "cell_type": "code",
   "execution_count": 25,
   "id": "b4c1d923-d8c0-400f-83b3-5e4dd73d6d98",
   "metadata": {},
   "outputs": [],
   "source": [
    "sorted_column = df.sort_values(['Nome'], ascending=True)"
   ]
  },
  {
   "cell_type": "code",
   "execution_count": 26,
   "id": "1da942ae-f0b8-47b4-80ea-f20c57fb3c0b",
   "metadata": {},
   "outputs": [
    {
     "data": {
      "text/html": [
       "<div>\n",
       "<style scoped>\n",
       "    .dataframe tbody tr th:only-of-type {\n",
       "        vertical-align: middle;\n",
       "    }\n",
       "\n",
       "    .dataframe tbody tr th {\n",
       "        vertical-align: top;\n",
       "    }\n",
       "\n",
       "    .dataframe thead th {\n",
       "        text-align: right;\n",
       "    }\n",
       "</style>\n",
       "<table border=\"1\" class=\"dataframe\">\n",
       "  <thead>\n",
       "    <tr style=\"text-align: right;\">\n",
       "      <th></th>\n",
       "      <th>Nome</th>\n",
       "      <th>E-mail</th>\n",
       "      <th>Departamento</th>\n",
       "      <th>Telefone</th>\n",
       "    </tr>\n",
       "  </thead>\n",
       "  <tbody>\n",
       "    <tr>\n",
       "      <th>49</th>\n",
       "      <td>Benjamin Araújo</td>\n",
       "      <td>benjamin_araújo@alucario.com.br</td>\n",
       "      <td>Administrativo</td>\n",
       "      <td>(44) 92403-5556</td>\n",
       "    </tr>\n",
       "    <tr>\n",
       "      <th>20</th>\n",
       "      <td>Benjamin Rodrigues</td>\n",
       "      <td>benjamin_rodrigues@alucario.com.br</td>\n",
       "      <td>Marketing</td>\n",
       "      <td>(47) 98169-1131</td>\n",
       "    </tr>\n",
       "    <tr>\n",
       "      <th>21</th>\n",
       "      <td>Benjamin Souza</td>\n",
       "      <td>benjamin_souza@alucario.com.br</td>\n",
       "      <td>Marketing</td>\n",
       "      <td>(58) 91097-7488</td>\n",
       "    </tr>\n",
       "    <tr>\n",
       "      <th>22</th>\n",
       "      <td>Benjamin Souza</td>\n",
       "      <td>benjamin_souza@alucario.com.br</td>\n",
       "      <td>Marketing</td>\n",
       "      <td>(61) 97740-4482</td>\n",
       "    </tr>\n",
       "    <tr>\n",
       "      <th>29</th>\n",
       "      <td>Bernardo Almeida</td>\n",
       "      <td>bernardo_almeida@alucario.com.br</td>\n",
       "      <td>Administrativo</td>\n",
       "      <td>(48) 97511-6770</td>\n",
       "    </tr>\n",
       "  </tbody>\n",
       "</table>\n",
       "</div>"
      ],
      "text/plain": [
       "                  Nome                              E-mail    Departamento  \\\n",
       "49     Benjamin Araújo     benjamin_araújo@alucario.com.br  Administrativo   \n",
       "20  Benjamin Rodrigues  benjamin_rodrigues@alucario.com.br       Marketing   \n",
       "21      Benjamin Souza      benjamin_souza@alucario.com.br       Marketing   \n",
       "22      Benjamin Souza      benjamin_souza@alucario.com.br       Marketing   \n",
       "29    Bernardo Almeida    bernardo_almeida@alucario.com.br  Administrativo   \n",
       "\n",
       "           Telefone  \n",
       "49  (44) 92403-5556  \n",
       "20  (47) 98169-1131  \n",
       "21  (58) 91097-7488  \n",
       "22  (61) 97740-4482  \n",
       "29  (48) 97511-6770  "
      ]
     },
     "execution_count": 26,
     "metadata": {},
     "output_type": "execute_result"
    }
   ],
   "source": [
    "sorted_column.head(5)"
   ]
  },
  {
   "cell_type": "code",
   "execution_count": 27,
   "id": "d1e1ddb3-6dd5-4498-a5fd-ad577d1b7c1f",
   "metadata": {},
   "outputs": [
    {
     "data": {
      "text/plain": [
       "45             Lorena Vidal\n",
       "46    Enzo Gabriel Oliveira\n",
       "47         Joaquim Carvalho\n",
       "48             Heitor Lopes\n",
       "49          Benjamin Araújo\n",
       "Name: Nome, dtype: object"
      ]
     },
     "execution_count": 27,
     "metadata": {},
     "output_type": "execute_result"
    }
   ],
   "source": [
    "df['Nome'].tail()"
   ]
  },
  {
   "cell_type": "code",
   "execution_count": null,
   "id": "5157ff1f-f178-4c78-a3cb-9a4f2704bf1e",
   "metadata": {},
   "outputs": [],
   "source": []
  }
 ],
 "metadata": {
  "kernelspec": {
   "display_name": "trem_envir",
   "language": "python",
   "name": "trem_envir"
  },
  "language_info": {
   "codemirror_mode": {
    "name": "ipython",
    "version": 3
   },
   "file_extension": ".py",
   "mimetype": "text/x-python",
   "name": "python",
   "nbconvert_exporter": "python",
   "pygments_lexer": "ipython3",
   "version": "3.12.2"
  }
 },
 "nbformat": 4,
 "nbformat_minor": 5
}
